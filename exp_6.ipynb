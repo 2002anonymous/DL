{
  "nbformat": 4,
  "nbformat_minor": 0,
  "metadata": {
    "colab": {
      "provenance": []
    },
    "kernelspec": {
      "name": "python3",
      "display_name": "Python 3"
    },
    "language_info": {
      "name": "python"
    }
  },
  "cells": [
    {
      "cell_type": "code",
      "execution_count": null,
      "metadata": {
        "id": "acXd-Hpi25E1"
      },
      "outputs": [],
      "source": [
        "from tensorflow.keras import Sequential\n",
        "from tensorflow.keras.layers import Dense, Flatten, Dropout\n",
        "from tensorflow.keras.callbacks import EarlyStopping\n",
        "from tensorflow.keras.datasets.mnist import load_data\n",
        "import tensorflow.keras.regularizers as regularizers"
      ]
    },
    {
      "cell_type": "code",
      "source": [
        "(X_train, y_train), (X_test, y_test) = load_data()\n",
        "X_train, X_test = X_train / 255., X_test / 255."
      ],
      "metadata": {
        "colab": {
          "base_uri": "https://localhost:8080/"
        },
        "id": "9rHS5YhD27QA",
        "outputId": "8f97208a-cb63-40b0-86e1-f7978028b264"
      },
      "execution_count": null,
      "outputs": [
        {
          "output_type": "stream",
          "name": "stdout",
          "text": [
            "Downloading data from https://storage.googleapis.com/tensorflow/tf-keras-datasets/mnist.npz\n",
            "11490434/11490434 [==============================] - 1s 0us/step\n"
          ]
        }
      ]
    },
    {
      "cell_type": "code",
      "source": [
        "def modelFactory(l1=False, l2=False, dropout=False):\n",
        "  extra_prem = {}\n",
        "  if l1:\n",
        "    regularizers.L1(l1=.01)\n",
        "    extra_prem['kernel_regularizer'] = 'l1'\n",
        "  elif l2:\n",
        "    regularizers.L2(l2=.01)\n",
        "    extra_prem['kernel_regularizer'] = 'l2'\n",
        "  model = Sequential([\n",
        "    Flatten(input_shape=(28, 28)),\n",
        "    Dense(128, activation='relu', **extra_prem),\n",
        "    Dense(32, activation='relu', **extra_prem),\n",
        "  ])\n",
        "  if dropout:\n",
        "    model.add(Dropout(.2))\n",
        "  model.add(Dense(10, activation='softmax', **extra_prem))\n",
        "  model.compile(optimizer='adam', loss='sparse_categorical_crossentropy', metrics=['accuracy'])\n",
        "  return model"
      ],
      "metadata": {
        "id": "nu0QvAZ129q3"
      },
      "execution_count": null,
      "outputs": []
    },
    {
      "cell_type": "code",
      "source": [
        "model_l1 = modelFactory(l1=True)\n",
        "model_l1.fit(X_train, y_train, validation_data=(X_test, y_test), epochs=5)\n",
        "loss, acc = model_l1.evaluate(X_test, y_test)\n",
        "acc"
      ],
      "metadata": {
        "colab": {
          "base_uri": "https://localhost:8080/"
        },
        "id": "RmKu5ajc3Hf9",
        "outputId": "768de84b-a644-465b-d73a-c809c7d8d873"
      },
      "execution_count": null,
      "outputs": [
        {
          "output_type": "stream",
          "name": "stdout",
          "text": [
            "Epoch 1/5\n",
            "1875/1875 [==============================] - 12s 6ms/step - loss: 2.9113 - accuracy: 0.7505 - val_loss: 1.7110 - val_accuracy: 0.8144\n",
            "Epoch 2/5\n",
            "1875/1875 [==============================] - 11s 6ms/step - loss: 1.6590 - accuracy: 0.8203 - val_loss: 1.5793 - val_accuracy: 0.8315\n",
            "Epoch 3/5\n",
            "1875/1875 [==============================] - 10s 5ms/step - loss: 1.5605 - accuracy: 0.8314 - val_loss: 1.5087 - val_accuracy: 0.8336\n",
            "Epoch 4/5\n",
            "1875/1875 [==============================] - 11s 6ms/step - loss: 1.5032 - accuracy: 0.8390 - val_loss: 1.4664 - val_accuracy: 0.8422\n",
            "Epoch 5/5\n",
            "1875/1875 [==============================] - 11s 6ms/step - loss: 1.4725 - accuracy: 0.8430 - val_loss: 1.4404 - val_accuracy: 0.8455\n",
            "313/313 [==============================] - 1s 2ms/step - loss: 1.4404 - accuracy: 0.8455\n"
          ]
        },
        {
          "output_type": "execute_result",
          "data": {
            "text/plain": [
              "0.8454999923706055"
            ]
          },
          "metadata": {},
          "execution_count": 4
        }
      ]
    },
    {
      "cell_type": "code",
      "source": [
        "model_l2 = modelFactory(l2=True)\n",
        "model_l2.fit(X_train, y_train, validation_data=(X_test, y_test), epochs=5)\n",
        "loss, acc = model_l2.evaluate(X_test, y_test)\n",
        "acc"
      ],
      "metadata": {
        "colab": {
          "base_uri": "https://localhost:8080/"
        },
        "id": "VIBLLinm3J7B",
        "outputId": "717cbdd6-9030-498a-b85e-c14c26b158b2"
      },
      "execution_count": null,
      "outputs": [
        {
          "output_type": "stream",
          "name": "stdout",
          "text": [
            "Epoch 1/5\n",
            "1875/1875 [==============================] - 11s 6ms/step - loss: 1.0154 - accuracy: 0.8864 - val_loss: 0.8099 - val_accuracy: 0.9055\n",
            "Epoch 2/5\n",
            "1875/1875 [==============================] - 9s 5ms/step - loss: 0.8151 - accuracy: 0.9037 - val_loss: 0.7932 - val_accuracy: 0.9056\n",
            "Epoch 3/5\n",
            "1875/1875 [==============================] - 10s 5ms/step - loss: 0.7990 - accuracy: 0.9057 - val_loss: 0.7606 - val_accuracy: 0.9158\n",
            "Epoch 4/5\n",
            "1875/1875 [==============================] - 10s 5ms/step - loss: 0.7900 - accuracy: 0.9070 - val_loss: 0.7707 - val_accuracy: 0.9154\n",
            "Epoch 5/5\n",
            "1875/1875 [==============================] - 8s 5ms/step - loss: 0.7824 - accuracy: 0.9085 - val_loss: 0.7598 - val_accuracy: 0.9203\n",
            "313/313 [==============================] - 1s 2ms/step - loss: 0.7598 - accuracy: 0.9203\n"
          ]
        },
        {
          "output_type": "execute_result",
          "data": {
            "text/plain": [
              "0.9203000068664551"
            ]
          },
          "metadata": {},
          "execution_count": 5
        }
      ]
    },
    {
      "cell_type": "code",
      "source": [
        "model_dropout = modelFactory(dropout=True)\n",
        "model_dropout.fit(X_train, y_train, validation_data=(X_test, y_test), epochs=5)\n",
        "loss, acc = model_dropout.evaluate(X_test, y_test)\n",
        "acc"
      ],
      "metadata": {
        "colab": {
          "base_uri": "https://localhost:8080/"
        },
        "id": "NSz6R5Tp3MBr",
        "outputId": "418f2df3-6d31-4d62-98d3-9c438808f97b"
      },
      "execution_count": null,
      "outputs": [
        {
          "output_type": "stream",
          "name": "stdout",
          "text": [
            "Epoch 1/5\n",
            "1875/1875 [==============================] - 11s 5ms/step - loss: 0.3387 - accuracy: 0.9000 - val_loss: 0.1435 - val_accuracy: 0.9585\n",
            "Epoch 2/5\n",
            "1875/1875 [==============================] - 8s 4ms/step - loss: 0.1465 - accuracy: 0.9570 - val_loss: 0.0988 - val_accuracy: 0.9707\n",
            "Epoch 3/5\n",
            "1875/1875 [==============================] - 9s 5ms/step - loss: 0.1075 - accuracy: 0.9686 - val_loss: 0.0933 - val_accuracy: 0.9721\n",
            "Epoch 4/5\n",
            "1875/1875 [==============================] - 10s 5ms/step - loss: 0.0854 - accuracy: 0.9748 - val_loss: 0.0916 - val_accuracy: 0.9732\n",
            "Epoch 5/5\n",
            "1875/1875 [==============================] - 8s 4ms/step - loss: 0.0696 - accuracy: 0.9784 - val_loss: 0.0837 - val_accuracy: 0.9771\n",
            "313/313 [==============================] - 1s 2ms/step - loss: 0.0837 - accuracy: 0.9771\n"
          ]
        },
        {
          "output_type": "execute_result",
          "data": {
            "text/plain": [
              "0.9771000146865845"
            ]
          },
          "metadata": {},
          "execution_count": 6
        }
      ]
    },
    {
      "cell_type": "code",
      "source": [
        "model_early = modelFactory()\n",
        "model_early.fit(X_train, y_train, validation_data=(X_test, y_test), epochs=10, callbacks=[EarlyStopping(monitor='accuracy', patience=2)])\n",
        "loss, acc = model_early.evaluate(X_test, y_test)\n",
        "acc"
      ],
      "metadata": {
        "colab": {
          "base_uri": "https://localhost:8080/"
        },
        "id": "qRbZ4WVV3RXd",
        "outputId": "70af3e30-4df7-44ea-859d-23f6bdb17909"
      },
      "execution_count": null,
      "outputs": [
        {
          "output_type": "stream",
          "name": "stdout",
          "text": [
            "Epoch 1/10\n",
            "1875/1875 [==============================] - 10s 5ms/step - loss: 0.2568 - accuracy: 0.9264 - val_loss: 0.1440 - val_accuracy: 0.9573\n",
            "Epoch 2/10\n",
            "1875/1875 [==============================] - 10s 5ms/step - loss: 0.1128 - accuracy: 0.9664 - val_loss: 0.0978 - val_accuracy: 0.9702\n",
            "Epoch 3/10\n",
            "1875/1875 [==============================] - 7s 4ms/step - loss: 0.0788 - accuracy: 0.9751 - val_loss: 0.0940 - val_accuracy: 0.9725\n",
            "Epoch 4/10\n",
            "1875/1875 [==============================] - 9s 5ms/step - loss: 0.0589 - accuracy: 0.9810 - val_loss: 0.0829 - val_accuracy: 0.9748\n",
            "Epoch 5/10\n",
            "1875/1875 [==============================] - 8s 4ms/step - loss: 0.0472 - accuracy: 0.9849 - val_loss: 0.0799 - val_accuracy: 0.9762\n",
            "Epoch 6/10\n",
            "1875/1875 [==============================] - 9s 5ms/step - loss: 0.0380 - accuracy: 0.9876 - val_loss: 0.0860 - val_accuracy: 0.9741\n",
            "Epoch 7/10\n",
            "1875/1875 [==============================] - 9s 5ms/step - loss: 0.0311 - accuracy: 0.9897 - val_loss: 0.0810 - val_accuracy: 0.9778\n",
            "Epoch 8/10\n",
            "1875/1875 [==============================] - 7s 4ms/step - loss: 0.0253 - accuracy: 0.9919 - val_loss: 0.0864 - val_accuracy: 0.9766\n",
            "Epoch 9/10\n",
            "1875/1875 [==============================] - 9s 5ms/step - loss: 0.0215 - accuracy: 0.9929 - val_loss: 0.0914 - val_accuracy: 0.9764\n",
            "Epoch 10/10\n",
            "1875/1875 [==============================] - 7s 4ms/step - loss: 0.0221 - accuracy: 0.9926 - val_loss: 0.0983 - val_accuracy: 0.9759\n",
            "313/313 [==============================] - 1s 2ms/step - loss: 0.0983 - accuracy: 0.9759\n"
          ]
        },
        {
          "output_type": "execute_result",
          "data": {
            "text/plain": [
              "0.9758999943733215"
            ]
          },
          "metadata": {},
          "execution_count": 7
        }
      ]
    },
    {
      "cell_type": "code",
      "source": [],
      "metadata": {
        "id": "cWWRC1h83UnB"
      },
      "execution_count": null,
      "outputs": []
    }
  ]
}