{
  "nbformat": 4,
  "nbformat_minor": 0,
  "metadata": {
    "colab": {
      "provenance": []
    },
    "kernelspec": {
      "name": "python3",
      "display_name": "Python 3"
    },
    "language_info": {
      "name": "python"
    }
  },
  "cells": [
    {
      "cell_type": "code",
      "source": [
        "!pip install scikeras"
      ],
      "metadata": {
        "id": "nd55v-Wq0L6G"
      },
      "execution_count": null,
      "outputs": []
    },
    {
      "cell_type": "code",
      "source": [
        "import numpy as np\n",
        "import pandas as pd\n",
        "import tensorflow as tf\n",
        "from tensorflow import keras\n",
        "from sklearn.model_selection import train_test_split, GridSearchCV\n",
        "from sklearn.metrics import accuracy_score\n",
        "from scikeras.wrappers import KerasClassifier\n",
        "# from keras.wrappers.scikit_learn import KerasClassifier\n",
        "from sklearn.datasets import load_iris\n",
        "import matplotlib.pyplot as plt"
      ],
      "metadata": {
        "id": "uk7z6F1I0EqX"
      },
      "execution_count": null,
      "outputs": []
    },
    {
      "cell_type": "code",
      "source": [
        "data = load_iris()\n",
        "X = data.data\n",
        "y = data.target\n",
        "X_train, X_test, y_train, y_test = train_test_split(X, y, test_size=0.2, random_state=42)"
      ],
      "metadata": {
        "id": "WdrEKQ1X0JRi"
      },
      "execution_count": null,
      "outputs": []
    },
    {
      "cell_type": "code",
      "execution_count": null,
      "metadata": {
        "id": "914NtdxEz81-"
      },
      "outputs": [],
      "source": [
        "def create_model(learning_rate, num_units=64):\n",
        "  model = keras.Sequential([\n",
        "    keras.layers.Dense(units=num_units, activation='relu', input_shape=(X_train.shape[1],)),\n",
        "    keras.layers.Dense(units=num_units, activation='relu'),\n",
        "    keras.layers.Dense(units=3, activation='softmax') # Multi-class classification\n",
        "  ])\n",
        "  optimizer = keras.optimizers.Adam(learning_rate=learning_rate)\n",
        "  model.compile(optimizer=optimizer, loss='sparse_categorical_crossentropy', metrics=['accuracy'])\n",
        "  return model"
      ]
    },
    {
      "cell_type": "code",
      "source": [
        "model = KerasClassifier(build_fn=create_model, epochs=5, batch_size=10, learning_rate = [0.001, 0.01, 0.1], num_units = [32, 64, 128])\n",
        "\n",
        "param_grid = { 'learning_rate' : [0.001, 0.01, 0.1], 'num_units' : [32, 64, 128] }\n",
        "grid_search = GridSearchCV(estimator=model, param_grid = param_grid, cv=3, verbose=1)\n",
        "grid_result = grid_search.fit(X_train, y_train)\n",
        "\n",
        "print(f\"Best Parameters: {grid_result.best_params_}\")\n",
        "print(f\"Best Accuracy: {grid_result.best_score_}\")\n",
        "\n",
        "best_model = grid_result.best_estimator_\n",
        "history = best_model.fit(X_train, y_train, epochs=30, batch_size=32)\n",
        "\n",
        "# test_loss, test_accuracy = best_model.evaluate(X_test, y_test)\n",
        "y_pred = best_model.predict(X_test)\n",
        "test_accuracy = accuracy_score(y_test, y_pred)\n",
        "print(f\"Test Accuracy: {test_accuracy}\")"
      ],
      "metadata": {
        "id": "S4sLGlo40Rf-"
      },
      "execution_count": null,
      "outputs": []
    },
    {
      "cell_type": "code",
      "source": [],
      "metadata": {
        "id": "fwgHAy4Q0SOd"
      },
      "execution_count": null,
      "outputs": []
    }
  ]
}