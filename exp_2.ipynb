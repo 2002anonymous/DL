{
  "nbformat": 4,
  "nbformat_minor": 0,
  "metadata": {
    "colab": {
      "provenance": []
    },
    "kernelspec": {
      "name": "python3",
      "display_name": "Python 3"
    },
    "language_info": {
      "name": "python"
    }
  },
  "cells": [
    {
      "cell_type": "code",
      "execution_count": null,
      "metadata": {
        "id": "2ln1RFX4zT-i"
      },
      "outputs": [],
      "source": [
        "from tensorflow.keras.datasets.mnist import load_data\n",
        "from tensorflow.keras.layers import Flatten, Dense, Dropout\n",
        "from tensorflow.keras import Sequential"
      ]
    },
    {
      "cell_type": "code",
      "source": [
        "(X_train, y_train), (X_test, y_test) = load_data()\n",
        "X_train, X_test = X_train / 255., X_test / 255.\n",
        "\n",
        "model = Sequential([\n",
        "  Flatten(input_shape=(28, 28)),\n",
        "  Dense(128, activation=\"relu\"),\n",
        "  Dropout(.2),\n",
        "  Dense(32, activation=\"relu\"),\n",
        "  Dropout(.2),\n",
        "  Dense(10, activation=\"softmax\"),\n",
        "])\n",
        "model.compile(optimizer='adam', loss='sparse_categorical_crossentropy', metrics=['accuracy'])\n",
        "model.fit(X_train, y_train, epochs=5)\n",
        "loss, acc = model.evaluate(X_test, y_test)\n",
        "print(\"Test Accuray:\", acc)"
      ],
      "metadata": {
        "colab": {
          "base_uri": "https://localhost:8080/"
        },
        "id": "vkqRV-9_zX6x",
        "outputId": "9502ccdb-afb6-46a9-c4d4-2844692d2234"
      },
      "execution_count": null,
      "outputs": [
        {
          "output_type": "stream",
          "name": "stdout",
          "text": [
            "Epoch 1/5\n",
            "1875/1875 [==============================] - 10s 5ms/step - loss: 0.3849 - accuracy: 0.8854\n",
            "Epoch 2/5\n",
            "1875/1875 [==============================] - 8s 4ms/step - loss: 0.1830 - accuracy: 0.9481\n",
            "Epoch 3/5\n",
            "1875/1875 [==============================] - 10s 5ms/step - loss: 0.1456 - accuracy: 0.9567\n",
            "Epoch 4/5\n",
            "1875/1875 [==============================] - 8s 4ms/step - loss: 0.1219 - accuracy: 0.9646\n",
            "Epoch 5/5\n",
            "1875/1875 [==============================] - 10s 5ms/step - loss: 0.1072 - accuracy: 0.9677\n",
            "313/313 [==============================] - 1s 2ms/step - loss: 0.0868 - accuracy: 0.9754\n",
            "Test Accuray: 0.9753999710083008\n"
          ]
        }
      ]
    },
    {
      "cell_type": "code",
      "source": [
        "import numpy as np\n",
        "import theano\n",
        "import theano.tensor as T\n",
        "\n",
        "x = T.dscalar('x')\n",
        "y = T.dscalar('y')\n",
        "z = x + y\n",
        "\n",
        "addition = theano.function([x, y], z)\n",
        "result = addition(2.5, 3.7)\n",
        "print(\"Result:\", result)"
      ],
      "metadata": {
        "id": "o3NdFVOlzdM3"
      },
      "execution_count": null,
      "outputs": []
    },
    {
      "cell_type": "code",
      "source": [
        "import torch\n",
        "t1 = torch.tensor([1, 2, 3])\n",
        "t2 = torch.tensor([[1, 2, 3], [4, 5, 6]])\n",
        "t1.shape, t2.shape\n",
        "print(\"Ranks\")\n",
        "len(t1.shape), len(t2.shape)"
      ],
      "metadata": {
        "id": "xoFXmZv5zmaL"
      },
      "execution_count": null,
      "outputs": []
    },
    {
      "cell_type": "code",
      "source": [],
      "metadata": {
        "id": "P9L5lHRtzqFF"
      },
      "execution_count": null,
      "outputs": []
    }
  ]
}