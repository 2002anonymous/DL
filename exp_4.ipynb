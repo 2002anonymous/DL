{
  "nbformat": 4,
  "nbformat_minor": 0,
  "metadata": {
    "colab": {
      "provenance": []
    },
    "kernelspec": {
      "name": "python3",
      "display_name": "Python 3"
    },
    "language_info": {
      "name": "python"
    }
  },
  "cells": [
    {
      "cell_type": "code",
      "execution_count": null,
      "metadata": {
        "id": "a6Gh-0970cMc"
      },
      "outputs": [],
      "source": [
        "import matplotlib.pyplot as plt\n",
        "from tensorflow.keras.optimizers import SGD, RMSprop, Adagrad, Adam\n",
        "from tensorflow.keras.datasets.mnist import load_data\n",
        "from tensorflow.keras import Sequential\n",
        "from tensorflow.keras.layers import Dense, Flatten, Dropout\n",
        "from tensorflow.keras.losses import SparseCategoricalCrossentropy"
      ]
    },
    {
      "cell_type": "code",
      "source": [
        "(X_train, y_train), (X_test, y_test) = load_data()\n",
        "X_train, X_test = X_train / 255., X_test / 255."
      ],
      "metadata": {
        "id": "hWsj6JZj0gGx"
      },
      "execution_count": null,
      "outputs": []
    },
    {
      "cell_type": "code",
      "source": [
        "accuracy_data = {}\n",
        "def newModel(optim):\n",
        "  model = Sequential([\n",
        "    Flatten(input_shape=(28, 28)),\n",
        "    Dense(128, activation='relu'),\n",
        "    Dropout(0.2),\n",
        "    Dense(64, activation='relu'),\n",
        "    Dropout(0.2),\n",
        "    Dense(10),\n",
        "  ])\n",
        "  model.compile(optimizer=optim, loss=SparseCategoricalCrossentropy(from_logits=True), metrics=['accuracy'])\n",
        "  return model"
      ],
      "metadata": {
        "id": "mr6cuJRq0iQB"
      },
      "execution_count": null,
      "outputs": []
    },
    {
      "cell_type": "code",
      "source": [
        "optims = dict(\n",
        "  sgd=SGD(learning_rate=.01),\n",
        "  momentum=SGD(learning_rate=.01, momentum=.9),\n",
        "  nesterov=SGD(learning_rate=.01, momentum=.9, nesterov=True),\n",
        "  adagrad=Adagrad(learning_rate=.01),\n",
        "  rms=RMSprop(learning_rate=.01),\n",
        "  adam=Adam(learning_rate=.01)\n",
        ")\n",
        "\n",
        "for name, optim in optims.items():\n",
        "  history = newModel(optim).fit(X_train, y_train, epochs=50, validation_data=(X_test, y_test))\n",
        "  accuracy_data[name] = history.history['accuracy']"
      ],
      "metadata": {
        "id": "0FSCY4t40suA"
      },
      "execution_count": null,
      "outputs": []
    },
    {
      "cell_type": "code",
      "source": [
        "for name, points in accuracy_data.items():\n",
        "  plt.plot(points, label=name)\n",
        "\n",
        "plt.title('Accuracy Curves for Different Optimizers')\n",
        "plt.xlabel(\"Epochs\")\n",
        "plt.ylabel(\"Accuracy\")\n",
        "plt.legend()"
      ],
      "metadata": {
        "id": "HeAufv-f03_D"
      },
      "execution_count": null,
      "outputs": []
    }
  ]
}